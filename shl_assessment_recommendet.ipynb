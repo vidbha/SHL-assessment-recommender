{
 "cells": [
  {
   "cell_type": "markdown",
   "id": "f46f0fa9",
   "metadata": {},
   "source": [
    "🧱 Cell 1: Import Required Libraries"
   ]
  },
  {
   "cell_type": "code",
   "execution_count": 1,
   "id": "aea96649",
   "metadata": {},
   "outputs": [
    {
     "name": "stderr",
     "output_type": "stream",
     "text": [
      "c:\\Users\\vidhi\\Downloads\\my_shl\\.venv\\Lib\\site-packages\\tqdm\\auto.py:21: TqdmWarning: IProgress not found. Please update jupyter and ipywidgets. See https://ipywidgets.readthedocs.io/en/stable/user_install.html\n",
      "  from .autonotebook import tqdm as notebook_tqdm\n"
     ]
    }
   ],
   "source": [
    "import re\n",
    "import json\n",
    "import pandas as pd\n",
    "import torch\n",
    "from sentence_transformers import SentenceTransformer, util\n",
    "\n",
    "\n"
   ]
  },
  {
   "cell_type": "markdown",
   "id": "ee55f236",
   "metadata": {},
   "source": [
    " Cell 2: Configuration Parameters"
   ]
  },
  {
   "cell_type": "code",
   "execution_count": 2,
   "id": "40e9a0e4",
   "metadata": {},
   "outputs": [],
   "source": [
    "# === Configuration ===\n",
    "CSV_PATH    = \"assessments_with_combined_text.csv\"\n",
    "EMBED_MODEL = \"intfloat/e5-large-v2\"\n",
    "TOP_K       = 10\n",
    "DESC_CAND_K = 30\n",
    "BATCH_SIZE  = 64\n",
    "\n"
   ]
  },
  {
   "cell_type": "markdown",
   "id": "b0578945",
   "metadata": {},
   "source": [
    "Load Sentence Transformer Embedding Model and Assessment Recommendation Function"
   ]
  },
  {
   "cell_type": "code",
   "execution_count": 3,
   "id": "8f1936d7",
   "metadata": {},
   "outputs": [],
   "source": [
    "# === Load embedding model ===\n",
    "model = SentenceTransformer(EMBED_MODEL,device='cpu')\n",
    "def recommend_assessments(query, df, top_k=TOP_K, desc_cand_k=DESC_CAND_K):\n",
    "    q_lower = query.lower()\n",
    "\n",
    "    # --- Optional: Extract target duration from query ---\n",
    "    m = re.search(r\"(\\d{1,3})\\s*(?:minutes|min)\", q_lower)\n",
    "    dur_target = int(m.group(1)) if m else None\n",
    "\n",
    "    # --- Stage 1: Semantic Filtering by title + description ---\n",
    "    desc_title_texts = (df[\"cleaned_title\"].fillna(\"\") + \" \" + df[\"description\"].fillna(\"\")).tolist()\n",
    "    desc_title_embs = model.encode(desc_title_texts, convert_to_tensor=True, batch_size=BATCH_SIZE)\n",
    "    q_emb = model.encode(query, convert_to_tensor=True)\n",
    "    desc_sims = util.cos_sim(q_emb, desc_title_embs)[0]\n",
    "    top_desc_idx = torch.topk(desc_sims, k=min(len(df), desc_cand_k)).indices.tolist()\n",
    "    sem_filtered_df = df.iloc[top_desc_idx].copy()\n",
    "    sem_filtered_df[\"desc_title_sim\"] = [desc_sims[i].item() for i in top_desc_idx]\n",
    "\n",
    "    # --- Stage 2: Keyword Filtering ---\n",
    "    query_tokens = set(re.findall(r'\\w+', q_lower))\n",
    "    def keyword_match(kw):\n",
    "        if pd.isna(kw): return False\n",
    "        kw_tokens = set(re.findall(r'\\w+', kw.lower()))\n",
    "        return not query_tokens.isdisjoint(kw_tokens)\n",
    "\n",
    "    keyword_filtered_df = df[df[\"keywords\"].apply(keyword_match)]\n",
    "\n",
    "    # --- Intersect Stage 1 and 2 ---\n",
    "    common_ids = set(sem_filtered_df.index).intersection(set(keyword_filtered_df.index))\n",
    "    if not common_ids:\n",
    "        return []  # fallback: return empty if no match\n",
    "    final_df = df.loc[sorted(common_ids)].copy()\n",
    "\n",
    "    # --- Final Ranking using combined column ---\n",
    "    combined_embs = model.encode(final_df[\"combined_text\"].fillna(\"\").tolist(), convert_to_tensor=True, batch_size=BATCH_SIZE)\n",
    "    combined_sims = util.cos_sim(q_emb, combined_embs)[0]\n",
    "    final_df[\"combined_sim\"] = [combined_sims[i].item() for i in range(len(final_df))]\n",
    "\n",
    "    # --- Duration Score ---\n",
    "    dur_scores = []\n",
    "    for _, row in final_df.iterrows():\n",
    "        if dur_target is not None and pd.notna(row[\"duration_minutes\"]):\n",
    "            diff = abs(int(row[\"duration_minutes\"]) - dur_target)\n",
    "            score = max(0.0, 1 - diff / max(1, dur_target))\n",
    "        else:\n",
    "            score = 0.5\n",
    "        dur_scores.append(score)\n",
    "    final_df[\"dur_score\"] = dur_scores\n",
    "\n",
    "    # --- Final Score and Sort ---\n",
    "    final_df[\"final_score\"] = list(zip(final_df[\"dur_score\"], final_df[\"combined_sim\"]))\n",
    "    final_df_sorted = final_df.sort_values(\"final_score\", ascending=False)\n",
    "\n",
    "    return final_df_sorted[\"url\"].head(top_k).tolist()\n",
    "\n"
   ]
  },
  {
   "cell_type": "markdown",
   "id": "c41cd264",
   "metadata": {},
   "source": [
    "Define Evaluation Metrics, Test Queries for Evaluation and Run Evaluation on Test Set"
   ]
  },
  {
   "cell_type": "code",
   "execution_count": 4,
   "id": "bc544c0f",
   "metadata": {},
   "outputs": [
    {
     "name": "stdout",
     "output_type": "stream",
     "text": [
      "\n",
      "Evaluating on 4 queries...\n",
      "\n",
      "Query 1: Recall@10 = 0.500,  AP@10 = 0.183\n",
      "Query 2: Recall@10 = 0.400,  AP@10 = 0.315\n",
      "Query 3: Recall@10 = 0.200,  AP@10 = 0.200\n",
      "Query 4: Recall@10 = 0.167,  AP@10 = 0.167\n",
      "\n",
      "Mean Recall@10 = 0.317\n",
      " Mean AP@10     = 0.216\n"
     ]
    }
   ],
   "source": [
    "# === Metrics ===\n",
    "def recall_at_k(pred, relevant, k):\n",
    "    return len(set(pred[:k]) & set(relevant)) / len(relevant) if relevant else 0.0\n",
    "\n",
    "def ap_at_k(pred, relevant, k):\n",
    "    hits = 0\n",
    "    score = 0.0\n",
    "    for i, p in enumerate(pred[:k], start=1):\n",
    "        if p in relevant:\n",
    "            hits += 1\n",
    "            score += hits / i\n",
    "    return score / min(len(relevant), k) if relevant else 0.0\n",
    "\n",
    "# === Test Set ===\n",
    "test_queries = [\n",
    "    {\n",
    "        \"query\": \"I am hiring for Java developers who can also collaborate effectively with my business teams. Looking for an assessment(s) that can be completed in 40 minutes.\",\n",
    "        \"relevant\": [\n",
    "            \"https://www.shl.com/products/product-catalog/view/core-java-entry-level-new/\",\n",
    "            \"https://www.shl.com/products/product-catalog/view/java-8-new/\",\n",
    "            \"https://www.shl.com/products/product-catalog/view/core-java-advanced-level-new/\",\n",
    "            \"https://www.shl.com/products/product-catalog/view/agile-software-development/\",\n",
    "            \"https://www.shl.com/products/product-catalog/view/technology-professional-8-0-job-focused-assessment/\",\n",
    "            \"https://www.shl.com/products/product-catalog/view/computer-science-new/\"\n",
    "        ]\n",
    "    },\n",
    "    {\n",
    "        \"query\": \"I want to hire new graduates for a sales role in my company, the budget is for about an hour for each test. Give me some options\",\n",
    "        \"relevant\": [\n",
    "            \"https://www.shl.com/products/product-catalog/view/entry-level-sales-7-1/\",\n",
    "            \"https://www.shl.com/products/product-catalog/view/entry-level-sales-sift-out-7-1/\",\n",
    "            \"https://www.shl.com/products/product-catalog/view/entry-level-sales-solution/\",\n",
    "            \"https://www.shl.com/products/product-catalog/view/sales-representative-solution/\",\n",
    "            \"https://www.shl.com/products/product-catalog/view/sales-support-specialist-solution/\",\n",
    "            \"https://www.shl.com/products/product-catalog/view/technical-sales-associate-solution/\",\n",
    "            \"https://www.shl.com/products/product-catalog/view/svar-spoken-english-indian-accent-new/\",\n",
    "            \"https://www.shl.com/products/product-catalog/view/sales-and-service-phone-solution/\",\n",
    "            \"https://www.shl.com/products/product-catalog/view/sales-and-service-phone-simulation/\",\n",
    "            \"https://www.shl.com/products/product-catalog/view/english-comprehension-new/\"\n",
    "        ]\n",
    "    },\n",
    "    {\n",
    "        \"query\": \"Content Writer required, expert in English and SEO.\",\n",
    "        \"relevant\": [\n",
    "            \"https://www.shl.com/products/product-catalog/view/drupal-new/\",\n",
    "            \"https://www.shl.com/products/product-catalog/view/search-engine-optimization-new/\",\n",
    "            \"https://www.shl.com/products/product-catalog/view/administrative-professional-short-form/\",\n",
    "            \"https://www.shl.com/products/product-catalog/view/entry-level-sales-sift-out-7-1/\",\n",
    "            \"https://www.shl.com/products/product-catalog/view/general-entry-level-data-entry-7-0-solution/\"\n",
    "        ]\n",
    "    },\n",
    "    \n",
    "    {\n",
    "        \"query\": \"ICICI Bank Assistant Admin, Experience required 0-2 years, test should be 30-40 mins long\",\n",
    "        \"relevant\": [\n",
    "            \"https://www.shl.com/products/product-catalog/view/administrative-professional-short-form/\",\n",
    "            \"https://www.shl.com/products/product-catalog/view/verify-numerical-ability/\",\n",
    "            \"https://www.shl.com/products/product-catalog/view/financial-professional-short-form/\",\n",
    "            \"https://www.shl.com/products/product-catalog/view/bank-administrative-assistant-short-form/\",\n",
    "            \"https://www.shl.com/products/product-catalog/view/general-entry-level-data-entry-7-0-solution/\",\n",
    "            \"https://www.shl.com/products/product-catalog/view/basic-computer-literacy-windows-10-new/\"\n",
    "        ]\n",
    "    }\n",
    "]\n",
    "\n",
    "# === Run Evaluation ===\n",
    "df = pd.read_csv(CSV_PATH)\n",
    "recalls, aps = [], []\n",
    "print(f\"\\nEvaluating on {len(test_queries)} queries...\\n\")\n",
    "for i, entry in enumerate(test_queries, 1):\n",
    "    preds = recommend_assessments(entry[\"query\"], df)\n",
    "    r = recall_at_k(preds, entry[\"relevant\"], TOP_K)\n",
    "    a = ap_at_k(preds, entry[\"relevant\"], TOP_K)\n",
    "    recalls.append(r); aps.append(a)\n",
    "    print(f\"Query {i}: Recall@{TOP_K} = {r:.3f},  AP@{TOP_K} = {a:.3f}\")\n",
    "\n",
    "print(f\"\\nMean Recall@{TOP_K} = {sum(recalls)/len(recalls):.3f}\")\n",
    "print(f\" Mean AP@{TOP_K}     = {sum(aps)/len(aps):.3f}\")\n"
   ]
  }
 ],
 "metadata": {
  "kernelspec": {
   "display_name": ".venv",
   "language": "python",
   "name": "python3"
  },
  "language_info": {
   "codemirror_mode": {
    "name": "ipython",
    "version": 3
   },
   "file_extension": ".py",
   "mimetype": "text/x-python",
   "name": "python",
   "nbconvert_exporter": "python",
   "pygments_lexer": "ipython3",
   "version": "3.12.6"
  }
 },
 "nbformat": 4,
 "nbformat_minor": 5
}
